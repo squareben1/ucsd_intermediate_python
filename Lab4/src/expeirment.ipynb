{
 "cells": [
  {
   "cell_type": "code",
   "execution_count": null,
   "metadata": {},
   "outputs": [
    {
     "name": "stdout",
     "output_type": "stream",
     "text": [
      "self.fraction.value 1\n",
      "1\n",
      "self.fraction.value 2\n",
      "2\n",
      "self.fraction.value -1\n",
      "-1\n",
      "self.fraction.value 4\n",
      "4\n",
      "self.fraction.value -3\n",
      "-3\n",
      "self.fraction.value 6\n",
      "6\n",
      "self.fraction.value -5\n",
      "-5\n",
      "self.fraction.value 8\n",
      "8\n",
      "self.fraction.value -7\n",
      "-7\n",
      "self.fraction.value 10\n",
      "10\n",
      "pi after 10 iterations: 10.00000000000000000000000000000000000000000000000000\n",
      "Difference: -6.85840734641020676153735661672049711580283060062490\n"
     ]
    }
   ],
   "source": [
    "from src.fraction import Fraction\n",
    "# from Fraction import *\n",
    "from decimal import *\n",
    "\n",
    "pi50 = Decimal(\"3.14159265358979323846264338327950288419716939937510\")\n",
    "\n",
    "iterations = 1000000\n",
    "\n",
    "\n",
    "class LeibnizPiIterator:\n",
    "    def __init__(self):\n",
    "        pass\n",
    "\n",
    "    def __iter__(self):\n",
    "        self.fraction = Fraction(0, 1)  # running total\n",
    "        self.n = 1  # denominator to be used in the next iteration\n",
    "        self.add_next = True\n",
    "\n",
    "        return self\n",
    "\n",
    "    def __next__(self):\n",
    "        if self.add_next:\n",
    "            self.fraction += Fraction(4, self.n)\n",
    "        else:\n",
    "            self.fraction -= Fraction(4, self.n)\n",
    "        self.add_next = not self.add_next\n",
    "        self.n += 2\n",
    "        print(\"self.fraction.value\", self.fraction.value)\n",
    "        return self.fraction.value\n",
    "\n",
    "\n",
    "counter = 0\n",
    "for x in LeibnizPiIterator():\n",
    "    print(x)\n",
    "    counter += 1\n",
    "    if counter >= 10:\n",
    "        break\n",
    "print(f\"pi after {counter} iterations: {x:.50f}\")\n",
    "diff = pi50 - x\n",
    "print(f\"Difference: {diff:0.50f}\")\n"
   ]
  }
 ],
 "metadata": {
  "kernelspec": {
   "display_name": "Python 3.8.0 64-bit ('3.8.0')",
   "language": "python",
   "name": "python3"
  },
  "language_info": {
   "name": "python",
   "version": "3.8.0"
  },
  "orig_nbformat": 4,
  "vscode": {
   "interpreter": {
    "hash": "350ea69157f4aeb7f39bb2d079d1b40621d426fb851f3e82174dbcd8028fbf7f"
   }
  }
 },
 "nbformat": 4,
 "nbformat_minor": 2
}
